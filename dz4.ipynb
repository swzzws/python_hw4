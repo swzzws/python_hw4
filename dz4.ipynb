{
 "cells": [
  {
   "cell_type": "markdown",
   "metadata": {},
   "source": [
    "## Задание 1"
   ]
  },
  {
   "cell_type": "markdown",
   "metadata": {},
   "source": [
    "Напишите функцию date_range, которая возвращает список дней между датами start_date и end_date. \n",
    "Даты должны вводиться в формате YYYY-MM-DD."
   ]
  },
  {
   "cell_type": "code",
   "execution_count": 1,
   "metadata": {},
   "outputs": [],
   "source": [
    "from datetime import datetime\n",
    "from datetime import timedelta\n",
    "\n",
    "\n",
    "def date_range(start_date, end_date):\n",
    "    \n",
    "    '''\n",
    "    возвращает список дней между датами start_date и end_date\n",
    "    '''\n",
    "    \n",
    "    start_date_dt = datetime.strptime(start_date, '%Y-%m-%d') # преобразуем в формат datetime\n",
    "    end_date_dt = datetime.strptime(end_date, '%Y-%m-%d')\n",
    "    \n",
    "    while start_date_dt <= end_date_dt:          # цикл для возвращения диапазона дат day-by-day\n",
    "        print(start_date_dt.strftime('%Y-%m-%d'))\n",
    "        start_date_dt += timedelta(days=1)"
   ]
  },
  {
   "cell_type": "code",
   "execution_count": 2,
   "metadata": {},
   "outputs": [
    {
     "name": "stdout",
     "output_type": "stream",
     "text": [
      "2019-03-08\n",
      "2019-03-09\n",
      "2019-03-10\n",
      "2019-03-11\n",
      "2019-03-12\n",
      "2019-03-13\n",
      "2019-03-14\n",
      "2019-03-15\n",
      "2019-03-16\n",
      "2019-03-17\n"
     ]
    }
   ],
   "source": [
    "start_date='2019-03-08'\n",
    "end_date='2019-03-17'\n",
    "\n",
    "date_range(start_date, end_date)\n",
    "        "
   ]
  },
  {
   "cell_type": "markdown",
   "metadata": {},
   "source": [
    "## Задание 2"
   ]
  },
  {
   "cell_type": "markdown",
   "metadata": {},
   "source": [
    "Дополните функцию из первого задания проверкой на корректность дат. \n",
    "В случае неверного формата или если start_date > end_date должен возвращаться пустой список."
   ]
  },
  {
   "cell_type": "code",
   "execution_count": 3,
   "metadata": {},
   "outputs": [],
   "source": [
    "def date_range(start_date, end_date):\n",
    "    \n",
    "    '''\n",
    "    функцию date_range застраховали от ввода неверного формата даты и\n",
    "    ситуации, когда начальная дата больше конечной\n",
    "    '''\n",
    "    \n",
    "    try:\n",
    "        start_date_dt = datetime.strptime(start_date, '%Y-%m-%d')\n",
    "        end_date_dt = datetime.strptime(end_date, '%Y-%m-%d')\n",
    "        \n",
    "        if start_date_dt <= end_date_dt:\n",
    "            while start_date_dt <= end_date_dt:\n",
    "                print(start_date_dt.strftime('%Y-%m-%d'))\n",
    "                start_date_dt += timedelta(days=1)\n",
    "        else:\n",
    "            print ('start_date больше или равно end_date')\n",
    "            \n",
    "    \n",
    "    except ValueError:\n",
    "        print ('Неверный формат дат! Надо: YYYY-MM-DD!')   "
   ]
  },
  {
   "cell_type": "code",
   "execution_count": 7,
   "metadata": {},
   "outputs": [
    {
     "name": "stdout",
     "output_type": "stream",
     "text": [
      "start_date больше или равно end_date\n"
     ]
    }
   ],
   "source": [
    "date_range('2018-03-21', '2018-03-17')"
   ]
  },
  {
   "cell_type": "markdown",
   "metadata": {},
   "source": [
    "## Задание 3"
   ]
  },
  {
   "cell_type": "markdown",
   "metadata": {},
   "source": [
    "Дан поток дат в формате YYYY-MM-DD, в которых встречаются некорректные значения:\n",
    "\n",
    "stream = ['2018-04-02', '2018-02-29', '2018-19-02']\n",
    "\n",
    "Напишите функцию, которая проверяет эти даты на корректность. Т. е. для каждой даты возвращает True (дата корректна) или False (некорректная дата). "
   ]
  },
  {
   "cell_type": "code",
   "execution_count": 13,
   "metadata": {},
   "outputs": [],
   "source": [
    "stream = ['2018-04-02/', '2018-02-29', '2018-19-02']"
   ]
  },
  {
   "cell_type": "code",
   "execution_count": 9,
   "metadata": {},
   "outputs": [],
   "source": [
    "def correct_date(stream):\n",
    "    '''\n",
    "    выполняет проверку дат на корректность\n",
    "    '''\n",
    "    for i in stream: # каждый элемент списка проверяем в цикле\n",
    "        try:\n",
    "            if datetime.strptime(i, '%Y-%m-%d'):\n",
    "                print (i, True)\n",
    "                \n",
    "        except:\n",
    "            print (i, False)"
   ]
  },
  {
   "cell_type": "code",
   "execution_count": 14,
   "metadata": {},
   "outputs": [
    {
     "name": "stdout",
     "output_type": "stream",
     "text": [
      "2018-04-02/ False\n",
      "2018-02-29 False\n",
      "2018-19-02 False\n"
     ]
    }
   ],
   "source": [
    "correct_date(stream)"
   ]
  },
  {
   "cell_type": "markdown",
   "metadata": {},
   "source": [
    "## Задание 4"
   ]
  },
  {
   "cell_type": "markdown",
   "metadata": {},
   "source": [
    "Напишите функцию, которая возвращает список дат с 1 по вчерашний день текущего месяца. \n",
    "Если дан 1 день месяца, то возвращается список дней прошлого месяца."
   ]
  },
  {
   "cell_type": "code",
   "execution_count": 15,
   "metadata": {},
   "outputs": [],
   "source": [
    "def spisok_days():\n",
    "    '''\n",
    "    возвращает список дат с 1 по вчерашний день текущего месяца\n",
    "    формат дат\n",
    "    YYYY-MM-DD\n",
    "    '''\n",
    "    \n",
    "    yesterday = datetime.now() - timedelta(days=1) # нашли значение вчерашней даты, использовали метод .now() и класс timedelta\n",
    "    \n",
    "    if yesterday.day != 1: # проверяем не равна ли вчерашняя дата 1\n",
    "        \n",
    "        the_first_day = yesterday - timedelta(days = yesterday.day-1) # нашли значение 1-го дня текущего месяца\n",
    "        \n",
    "        while the_first_day <= yesterday:               # находим все даты в диапазоне вчера и 1-й день текущего месяца\n",
    "            print (the_first_day.strftime('%Y-%m-%d'))\n",
    "            the_first_day += timedelta(days=1)\n",
    "            \n",
    "    else:                                                                  # выводим все даты прошлого месяца, если вчера = 01\n",
    "        \n",
    "        the_last_day = yesterday_dt - timedelta(days = yesterday_dt.day)  # находим последний день прошлого месяца\n",
    "        the_first_day = the_last_day - timedelta(days = the_last_day.day-1) # находим первый день прошлого месяца\n",
    "        \n",
    "        while the_first_day <= the_last_day:           # находим все даты в диапазоне 1-й и последний дни прошлого месяца\n",
    "            print (the_first_day.strftime('%Y-%m-%d'))\n",
    "            the_first_day += timedelta(days=1)"
   ]
  },
  {
   "cell_type": "code",
   "execution_count": 16,
   "metadata": {},
   "outputs": [
    {
     "name": "stdout",
     "output_type": "stream",
     "text": [
      "2019-03-01\n",
      "2019-03-02\n",
      "2019-03-03\n",
      "2019-03-04\n",
      "2019-03-05\n",
      "2019-03-06\n",
      "2019-03-07\n",
      "2019-03-08\n",
      "2019-03-09\n",
      "2019-03-10\n",
      "2019-03-11\n",
      "2019-03-12\n",
      "2019-03-13\n",
      "2019-03-14\n",
      "2019-03-15\n",
      "2019-03-16\n",
      "2019-03-17\n",
      "2019-03-18\n"
     ]
    }
   ],
   "source": [
    "spisok_days()"
   ]
  },
  {
   "cell_type": "code",
   "execution_count": 18,
   "metadata": {},
   "outputs": [],
   "source": [
    "def spisok_days_1():\n",
    "    '''\n",
    "    проверка работы функции, если вчера - 1-й день месяца\n",
    "    '''\n",
    "    yesterday = '2019-03-01'\n",
    "    yesterday_dt = datetime.strptime(yesterday, '%Y-%m-%d')\n",
    "    \n",
    "    if yesterday_dt.day != 1:\n",
    "        \n",
    "        the_first_day = yesterday_dt - timedelta(days = yesterday_dt.day-1)\n",
    "        \n",
    "        while the_first_day <= yesterday_dt:\n",
    "            print (the_first_day.strftime('%Y-%m-%d'))\n",
    "            the_first_day += timedelta(days=1)\n",
    "    else:\n",
    "        \n",
    "        the_last_day = yesterday_dt - timedelta(days = yesterday_dt.day)\n",
    "        the_first_day = the_last_day - timedelta(days = the_last_day.day-1)\n",
    "        \n",
    "        while the_first_day <= the_last_day:\n",
    "            print (the_first_day.strftime('%Y-%m-%d'))\n",
    "            the_first_day += timedelta(days=1)"
   ]
  },
  {
   "cell_type": "code",
   "execution_count": 19,
   "metadata": {},
   "outputs": [
    {
     "name": "stdout",
     "output_type": "stream",
     "text": [
      "2019-02-01\n",
      "2019-02-02\n",
      "2019-02-03\n",
      "2019-02-04\n",
      "2019-02-05\n",
      "2019-02-06\n",
      "2019-02-07\n",
      "2019-02-08\n",
      "2019-02-09\n",
      "2019-02-10\n",
      "2019-02-11\n",
      "2019-02-12\n",
      "2019-02-13\n",
      "2019-02-14\n",
      "2019-02-15\n",
      "2019-02-16\n",
      "2019-02-17\n",
      "2019-02-18\n",
      "2019-02-19\n",
      "2019-02-20\n",
      "2019-02-21\n",
      "2019-02-22\n",
      "2019-02-23\n",
      "2019-02-24\n",
      "2019-02-25\n",
      "2019-02-26\n",
      "2019-02-27\n",
      "2019-02-28\n"
     ]
    }
   ],
   "source": [
    "spisok_days_1()"
   ]
  },
  {
   "cell_type": "markdown",
   "metadata": {},
   "source": [
    "## Задание 5"
   ]
  },
  {
   "cell_type": "markdown",
   "metadata": {},
   "source": [
    "Напишите функцию, которая возвращает точную дату в формате YYYY-MM-DD по фразе:\n",
    "\n",
    "1. 'today' - сегодняшнюю дату\n",
    "\n",
    "2. 'last monday' -  прошлый понедельник\n",
    "\n",
    "3. 'last day' - Последний день текущего месяца"
   ]
  },
  {
   "cell_type": "code",
   "execution_count": 20,
   "metadata": {},
   "outputs": [],
   "source": [
    "def last_day_m():\n",
    "    '''\n",
    "    возвращает последний день текущего месяца\n",
    "    формат записи даты\n",
    "    YYYY-MM-DD\n",
    "    '''\n",
    "    import calendar # используем метод calendar.monthrange\n",
    "    \n",
    "    current_month = datetime.now().month # получаем текущий месяц\n",
    "    current_year = datetime.now().year  # получаем текущий год\n",
    "    \n",
    "    days_in_month = (calendar.monthrange(current_year, current_month))  # находим кол-во дней в текущем месяце текущего года, \n",
    "                                                            # это 2-й элемент\n",
    "    \n",
    "    last_date_str = '-'.join(map(str, [current_year, current_month, days_in_month[1]]))  # записали элементы в строку с разделителем -\n",
    "    \n",
    "    last_day_in_month = datetime.strptime(last_date_str, '%Y-%m-%d').date()  # преобразовали в формат даты без времени\n",
    "    \n",
    "    print(last_day_in_month)\n",
    "        "
   ]
  },
  {
   "cell_type": "code",
   "execution_count": 21,
   "metadata": {},
   "outputs": [],
   "source": [
    "date_phrase = ''\n",
    "\n",
    "def date_words(date_phrase):\n",
    "    '''\n",
    "    возвращает даты по фразе пользователя\n",
    "    формат даты\n",
    "    YYYY-MM-DD\n",
    "    \n",
    "    для проверки input используем оператором ветвлени if-elif-else\n",
    "    '''\n",
    "    date_phrase = input()\n",
    "    \n",
    "    if date_phrase == 'today':\n",
    "        print(datetime.now().strftime('%Y-%m-%d'))\n",
    "        \n",
    "    elif date_phrase == 'last monday': \n",
    "        last_monday = datetime.now() - timedelta(days = datetime.now().weekday()+7)\n",
    "        print (last_monday.strftime('%Y-%m-%d'))\n",
    "            \n",
    "    elif date_phrase == 'last day':  # применяем функцию возврата последней даты текущего месяца\n",
    "        last_day_m()\n",
    "                \n",
    "    else:\n",
    "        print ('Sorry, do not understand your phrase' )\n",
    "        "
   ]
  },
  {
   "cell_type": "code",
   "execution_count": 25,
   "metadata": {},
   "outputs": [
    {
     "name": "stdout",
     "output_type": "stream",
     "text": [
      "last day\n",
      "2019-03-31\n"
     ]
    }
   ],
   "source": [
    "date_words(date_phrase)"
   ]
  },
  {
   "cell_type": "code",
   "execution_count": null,
   "metadata": {},
   "outputs": [],
   "source": []
  }
 ],
 "metadata": {
  "kernelspec": {
   "display_name": "Python 3",
   "language": "python",
   "name": "python3"
  },
  "language_info": {
   "codemirror_mode": {
    "name": "ipython",
    "version": 3
   },
   "file_extension": ".py",
   "mimetype": "text/x-python",
   "name": "python",
   "nbconvert_exporter": "python",
   "pygments_lexer": "ipython3",
   "version": "3.7.1"
  }
 },
 "nbformat": 4,
 "nbformat_minor": 2
}
